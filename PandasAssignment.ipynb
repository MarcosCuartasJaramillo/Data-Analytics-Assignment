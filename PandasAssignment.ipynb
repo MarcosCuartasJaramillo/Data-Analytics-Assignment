{
  "cells": [
    {
      "cell_type": "markdown",
      "metadata": {
        "id": "view-in-github",
        "colab_type": "text"
      },
      "source": [
        "<a href=\"https://colab.research.google.com/github/MarcosCuartasJaramillo/Data-Analytics-Assignment/blob/main/PandasAssignment.ipynb\" target=\"_parent\"><img src=\"https://colab.research.google.com/assets/colab-badge.svg\" alt=\"Open In Colab\"/></a>"
      ]
    },
    {
      "cell_type": "markdown",
      "id": "64d7f59f-248f-4fc8-9597-e1f3b35a9b98",
      "metadata": {
        "id": "64d7f59f-248f-4fc8-9597-e1f3b35a9b98"
      },
      "source": [
        "## Data Analysis assignment (20 points)\n",
        "\n",
        "You have been given the dataset `travel-times` in a CSV format. This dataset comes from a driver that uses an app to track GPS coordinates as he drives to work and back each day. The app collects the location and elevation data. In total, data for about 200 trips are summarized in this data set.\n",
        "\n",
        "Load the `travel-times` in a `df` variable using `pandas` and then perform the following:\n",
        "- print the shape of the dataset **(1 points)**\n",
        "- print the first 15 rows of the dataset **(1 points)**\n",
        "- get information for the features (columns) with missing values **(1 points)**\n",
        "- drop duplicate values (if any) by keeping only the last instance **(1 points)**\n",
        "- calculate the total number of missing values (if any) on each column **(2 points)**\n",
        "- create two copies of the dataframe, and then:\n",
        "    - drop rows with missing values from the 1st copy **(1 points)**\n",
        "    - drop columns with missing values from the 2nd copy **(1 points)**\n",
        "- get summary statistics and see the correlation between the numerical columns **(1 points)**\n",
        "- show rows 11 to 14 **(1 points)**\n",
        "- create a subset with trips occurred on November 23, 2011 and January 6, 2012 **(2 points)**\n",
        "- produce a scatterplot between `Distance` and `TotalTime` **(1 points)**\n",
        "    * Use:\n",
        "```python\n",
        "import matplotlib.pyplot as plt\n",
        "plt.rcParams.update({'font.size': 20, 'figure.figsize': (10, 8)})\n",
        "```\n",
        "- produce boxplots for `AvgSpeed` and `AvgMovingSpeed` (use different cells for each) **(2 points)**"
      ]
    },
    {
      "cell_type": "code",
      "execution_count": 4,
      "id": "3a276345-b8ef-419f-b55a-660d02d6279c",
      "metadata": {
        "id": "3a276345-b8ef-419f-b55a-660d02d6279c"
      },
      "outputs": [],
      "source": [
        "import matplotlib.pyplot as plt\n",
        "import pandas as pd\n",
        "\n",
        "plt.rcParams.update({'font.size': 20, 'figure.figsize': (10, 8)})"
      ]
    },
    {
      "cell_type": "code",
      "source": [
        "df = pd.read_csv(\"travel-times.csv\")"
      ],
      "metadata": {
        "id": "_Kp-Z4k2J9sx"
      },
      "id": "_Kp-Z4k2J9sx",
      "execution_count": 9,
      "outputs": []
    },
    {
      "cell_type": "code",
      "source": [
        "df.shape"
      ],
      "metadata": {
        "id": "mKht0_m2KnLH"
      },
      "id": "mKht0_m2KnLH",
      "execution_count": null,
      "outputs": []
    },
    {
      "cell_type": "code",
      "source": [
        "df.head(15)"
      ],
      "metadata": {
        "id": "lA38lvG8KuKg"
      },
      "id": "lA38lvG8KuKg",
      "execution_count": null,
      "outputs": []
    },
    {
      "cell_type": "code",
      "source": [
        "df.info()\n"
      ],
      "metadata": {
        "id": "kADYisc9LrV6"
      },
      "id": "kADYisc9LrV6",
      "execution_count": null,
      "outputs": []
    },
    {
      "cell_type": "code",
      "source": [
        "df.drop_duplicates(inplace=True)\n",
        "\n"
      ],
      "metadata": {
        "id": "C9PdiI7xMU6I"
      },
      "id": "C9PdiI7xMU6I",
      "execution_count": 13,
      "outputs": []
    },
    {
      "cell_type": "code",
      "source": [
        "df.isnull().sum()\n"
      ],
      "metadata": {
        "id": "-9rQ-DA5NWZq"
      },
      "id": "-9rQ-DA5NWZq",
      "execution_count": null,
      "outputs": []
    },
    {
      "cell_type": "code",
      "source": [
        "df1 = df.copy()\n",
        "df2 = df.copy()"
      ],
      "metadata": {
        "id": "u96dGBnEN1Vd"
      },
      "id": "u96dGBnEN1Vd",
      "execution_count": 15,
      "outputs": []
    },
    {
      "cell_type": "code",
      "source": [
        "df1.dropna(inplace=True)\n",
        "df1.shape\n"
      ],
      "metadata": {
        "id": "360GUyhZOfKl"
      },
      "id": "360GUyhZOfKl",
      "execution_count": null,
      "outputs": []
    },
    {
      "cell_type": "code",
      "source": [
        "df2.dropna(axis=1, inplace=True)\n",
        "df2.shape"
      ],
      "metadata": {
        "id": "5bBAWQ_0O7FG"
      },
      "id": "5bBAWQ_0O7FG",
      "execution_count": null,
      "outputs": []
    },
    {
      "cell_type": "code",
      "source": [
        "df.describe()\n"
      ],
      "metadata": {
        "id": "2IE1a5qgPRXY"
      },
      "id": "2IE1a5qgPRXY",
      "execution_count": null,
      "outputs": []
    },
    {
      "cell_type": "code",
      "source": [
        "df.select_dtypes(exclude='object').corr()"
      ],
      "metadata": {
        "id": "wPSWL_jOQH17"
      },
      "id": "wPSWL_jOQH17",
      "execution_count": null,
      "outputs": []
    },
    {
      "cell_type": "code",
      "source": [
        "df.iloc[10:14]\n"
      ],
      "metadata": {
        "id": "ORXwfuqTQzUq"
      },
      "id": "ORXwfuqTQzUq",
      "execution_count": null,
      "outputs": []
    },
    {
      "cell_type": "code",
      "source": [
        "df[df['Date'] == '11/23/2011']\n"
      ],
      "metadata": {
        "id": "bbpDxATLRTbJ"
      },
      "id": "bbpDxATLRTbJ",
      "execution_count": null,
      "outputs": []
    },
    {
      "cell_type": "code",
      "source": [
        "df[df['Date'] == '01/06/2012']\n"
      ],
      "metadata": {
        "id": "mTc7fO_ERhMK"
      },
      "id": "mTc7fO_ERhMK",
      "execution_count": null,
      "outputs": []
    },
    {
      "cell_type": "code",
      "source": [
        "df.plot(kind='scatter', x='Distance', y='TotalTime')\n",
        "\n"
      ],
      "metadata": {
        "id": "QFbnltsERyf6"
      },
      "id": "QFbnltsERyf6",
      "execution_count": null,
      "outputs": []
    },
    {
      "cell_type": "code",
      "source": [
        "df[['AvgMovingSpeed', 'AvgSpeed']].plot(kind='box')\n",
        "\n",
        "\n"
      ],
      "metadata": {
        "id": "j3J7XHBDSMjt"
      },
      "id": "j3J7XHBDSMjt",
      "execution_count": null,
      "outputs": []
    }
  ],
  "metadata": {
    "kernelspec": {
      "display_name": "Python 3 (ipykernel)",
      "language": "python",
      "name": "python3"
    },
    "language_info": {
      "codemirror_mode": {
        "name": "ipython",
        "version": 3
      },
      "file_extension": ".py",
      "mimetype": "text/x-python",
      "name": "python",
      "nbconvert_exporter": "python",
      "pygments_lexer": "ipython3",
      "version": "3.8.2"
    },
    "colab": {
      "provenance": [],
      "include_colab_link": true
    }
  },
  "nbformat": 4,
  "nbformat_minor": 5
}